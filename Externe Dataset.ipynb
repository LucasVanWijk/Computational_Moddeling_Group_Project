{
 "cells": [
  {
   "cell_type": "markdown",
   "metadata": {},
   "source": [
    "__INTERNE RED WINES DATASET__"
   ]
  },
  {
   "cell_type": "code",
   "execution_count": null,
   "metadata": {},
   "outputs": [],
   "source": []
  },
  {
   "cell_type": "code",
   "execution_count": null,
   "metadata": {},
   "outputs": [],
   "source": []
  },
  {
   "cell_type": "markdown",
   "metadata": {},
   "source": [
    "__EXTERNE WEER DATASET__"
   ]
  },
  {
   "cell_type": "code",
   "execution_count": 280,
   "metadata": {},
   "outputs": [],
   "source": [
    "# importeer nodige libraries\n",
    "import pandas as pd\n",
    "import numpy as np\n",
    "import matplotlib.pyplot as plt"
   ]
  },
  {
   "cell_type": "code",
   "execution_count": 281,
   "metadata": {},
   "outputs": [
    {
     "data": {
      "text/html": [
       "<div>\n",
       "<style scoped>\n",
       "    .dataframe tbody tr th:only-of-type {\n",
       "        vertical-align: middle;\n",
       "    }\n",
       "\n",
       "    .dataframe tbody tr th {\n",
       "        vertical-align: top;\n",
       "    }\n",
       "\n",
       "    .dataframe thead th {\n",
       "        text-align: right;\n",
       "    }\n",
       "</style>\n",
       "<table border=\"1\" class=\"dataframe\">\n",
       "  <thead>\n",
       "    <tr style=\"text-align: right;\">\n",
       "      <th></th>\n",
       "      <th>STN---</th>\n",
       "      <th>YEARMODA</th>\n",
       "      <th>TEMP</th>\n",
       "      <th>DEWP</th>\n",
       "      <th>VISIB</th>\n",
       "      <th>Unnamed: 5</th>\n",
       "      <th>WDSP</th>\n",
       "      <th>Unnamed: 7</th>\n",
       "      <th>MXSPD</th>\n",
       "      <th>GUST</th>\n",
       "      <th>MAX</th>\n",
       "      <th>MIN</th>\n",
       "      <th>PRCP</th>\n",
       "      <th>SNDP</th>\n",
       "      <th>FRSHTT</th>\n",
       "    </tr>\n",
       "  </thead>\n",
       "  <tbody>\n",
       "    <tr>\n",
       "      <th>0</th>\n",
       "      <td>85360</td>\n",
       "      <td>19900101</td>\n",
       "      <td>55,1</td>\n",
       "      <td>50,5</td>\n",
       "      <td>6,3</td>\n",
       "      <td>24</td>\n",
       "      <td>5,8</td>\n",
       "      <td>24</td>\n",
       "      <td>13</td>\n",
       "      <td>999,9</td>\n",
       "      <td>59.0*</td>\n",
       "      <td>44.6*</td>\n",
       "      <td>99,99</td>\n",
       "      <td>999,9</td>\n",
       "      <td>10000</td>\n",
       "    </tr>\n",
       "    <tr>\n",
       "      <th>1</th>\n",
       "      <td>85360</td>\n",
       "      <td>19900102</td>\n",
       "      <td>50,2</td>\n",
       "      <td>47,7</td>\n",
       "      <td>5</td>\n",
       "      <td>24</td>\n",
       "      <td>5,8</td>\n",
       "      <td>24</td>\n",
       "      <td>21</td>\n",
       "      <td>999,9</td>\n",
       "      <td>59.0*</td>\n",
       "      <td>42.8*</td>\n",
       "      <td>99,99</td>\n",
       "      <td>999,9</td>\n",
       "      <td>110010</td>\n",
       "    </tr>\n",
       "    <tr>\n",
       "      <th>2</th>\n",
       "      <td>85360</td>\n",
       "      <td>19900103</td>\n",
       "      <td>49,5</td>\n",
       "      <td>46,6</td>\n",
       "      <td>6,6</td>\n",
       "      <td>24</td>\n",
       "      <td>4,8</td>\n",
       "      <td>24</td>\n",
       "      <td>9,9</td>\n",
       "      <td>20</td>\n",
       "      <td>55.4*</td>\n",
       "      <td>44.6*</td>\n",
       "      <td>99,99</td>\n",
       "      <td>999,9</td>\n",
       "      <td>10000</td>\n",
       "    </tr>\n",
       "    <tr>\n",
       "      <th>3</th>\n",
       "      <td>85360</td>\n",
       "      <td>19900104</td>\n",
       "      <td>52,1</td>\n",
       "      <td>50,7</td>\n",
       "      <td>5</td>\n",
       "      <td>24</td>\n",
       "      <td>1,7</td>\n",
       "      <td>24</td>\n",
       "      <td>6</td>\n",
       "      <td>999,9</td>\n",
       "      <td>57.2*</td>\n",
       "      <td>46.4*</td>\n",
       "      <td>99,99</td>\n",
       "      <td>999,9</td>\n",
       "      <td>10000</td>\n",
       "    </tr>\n",
       "    <tr>\n",
       "      <th>4</th>\n",
       "      <td>85360</td>\n",
       "      <td>19900105</td>\n",
       "      <td>54,2</td>\n",
       "      <td>54</td>\n",
       "      <td>1,2</td>\n",
       "      <td>22</td>\n",
       "      <td>1</td>\n",
       "      <td>22</td>\n",
       "      <td>4,1</td>\n",
       "      <td>999,9</td>\n",
       "      <td>55.4*</td>\n",
       "      <td>53.6*</td>\n",
       "      <td>99,99</td>\n",
       "      <td>999,9</td>\n",
       "      <td>110000</td>\n",
       "    </tr>\n",
       "  </tbody>\n",
       "</table>\n",
       "</div>"
      ],
      "text/plain": [
       "   STN---  YEARMODA  TEMP  DEWP VISIB  Unnamed: 5 WDSP  Unnamed: 7 MXSPD  \\\n",
       "0   85360  19900101  55,1  50,5   6,3          24  5,8          24    13   \n",
       "1   85360  19900102  50,2  47,7     5          24  5,8          24    21   \n",
       "2   85360  19900103  49,5  46,6   6,6          24  4,8          24   9,9   \n",
       "3   85360  19900104  52,1  50,7     5          24  1,7          24     6   \n",
       "4   85360  19900105  54,2    54   1,2          22    1          22   4,1   \n",
       "\n",
       "    GUST    MAX    MIN   PRCP   SNDP  FRSHTT  \n",
       "0  999,9  59.0*  44.6*  99,99  999,9   10000  \n",
       "1  999,9  59.0*  42.8*  99,99  999,9  110010  \n",
       "2     20  55.4*  44.6*  99,99  999,9   10000  \n",
       "3  999,9  57.2*  46.4*  99,99  999,9   10000  \n",
       "4  999,9  55.4*  53.6*  99,99  999,9  110000  "
      ]
     },
     "execution_count": 281,
     "metadata": {},
     "output_type": "execute_result"
    }
   ],
   "source": [
    "# lees de externe dataset in\n",
    "weather_conditions = pd.read_csv(\"weatherdata_lisbon.csv\", delimiter=\";\", encoding='iso-8859-1')\n",
    "weather_conditions.head()"
   ]
  },
  {
   "cell_type": "code",
   "execution_count": 282,
   "metadata": {},
   "outputs": [],
   "source": [
    "weather_conditions.drop(['STN---','Unnamed: 5','Unnamed: 7','GUST','PRCP','SNDP','VISIB'], axis=1,inplace=True)\n",
    "weather_conditions.dropna(inplace=True)\n",
    "weather_conditions.rename(columns={'YEARMODA': 'Year','DEWP':'Dewpoint Temperature','TEMP': 'Temperature','MAX':'Max Temperature','MIN':'Min Temperature','WDSP':'Windspeed','MXSPD':'Max Windspeed'},inplace=True)"
   ]
  },
  {
   "cell_type": "code",
   "execution_count": 283,
   "metadata": {},
   "outputs": [],
   "source": [
    "# cleanup and transform data types\n",
    "# also convert fahrenheit to celsius\n",
    "weather_conditions['Max Temperature'] = (weather_conditions['Max Temperature'].str.replace(',','.').str.rstrip(\"*\").astype(float) - 32) / 1.8\n",
    "weather_conditions['Min Temperature'] = (weather_conditions['Min Temperature'].str.replace(',','.').str.rstrip(\"*\").astype(float) - 32) / 1.8\n",
    "weather_conditions['Temperature'] = (weather_conditions['Temperature'].str.replace(',','.').astype(float) - 32) / 1.8\n",
    "weather_conditions['Dewpoint Temperature'] = (weather_conditions['Dewpoint Temperature'].str.replace(',','.').astype(float) - 32) / 1.8\n",
    "weather_conditions['Windspeed'] = weather_conditions['Windspeed'].str.replace(',','.').astype(float)\n",
    "weather_conditions['Max Windspeed'] = weather_conditions['Max Windspeed'].str.replace(',','.').astype(float)\n",
    "weather_conditions['Year']= pd.to_datetime(weather_conditions['Year'].astype(str), format='%Y-%m-%d')"
   ]
  },
  {
   "cell_type": "code",
   "execution_count": 284,
   "metadata": {},
   "outputs": [],
   "source": [
    "# FRSHTT = Frost, Rain, Snow, Hail, Thunder, Thornado\n",
    "weather_conditions['FRSHTT'] = weather_conditions['FRSHTT'].apply(lambda x: '{0:0>6}'.format(x))\n",
    "weather_conditions['Frost'] = weather_conditions['FRSHTT'].str[0].astype(float)\n",
    "weather_conditions['Rain'] = weather_conditions['FRSHTT'].str[1].astype(float)\n",
    "weather_conditions['Snow'] = weather_conditions['FRSHTT'].str[2].astype(float)\n",
    "weather_conditions['Hail'] = weather_conditions['FRSHTT'].str[3].astype(float)\n",
    "weather_conditions['Thunder'] = weather_conditions['FRSHTT'].str[4].astype(float)\n",
    "weather_conditions['Tornado'] = weather_conditions['FRSHTT'].str[5].astype(float)\n",
    "weather_conditions.drop('FRSHTT',axis=1,inplace=True)"
   ]
  },
  {
   "cell_type": "code",
   "execution_count": 285,
   "metadata": {},
   "outputs": [],
   "source": [
    "weather_conditions = weather_conditions[weather_conditions['Min Temperature'] < 50]\n",
    "weather_conditions = weather_conditions[weather_conditions['Max Temperature'] < 50]\n",
    "weather_conditions = weather_conditions[weather_conditions['Temperature'] < 50]\n",
    "weather_conditions = weather_conditions[weather_conditions['Windspeed'] < 50]\n",
    "weather_conditions = weather_conditions[weather_conditions['Max Windspeed'] < 50]\n",
    "weather_conditions = weather_conditions[weather_conditions['Dewpoint Temperature'] < 100]"
   ]
  },
  {
   "cell_type": "code",
   "execution_count": 286,
   "metadata": {},
   "outputs": [],
   "source": [
    "weather_conditions['Count'] = 1\n",
    "weather_conditions_peryear = weather_conditions.groupby(temperatures['Year'].map(lambda x: x.year)).sum()\n",
    "weather_conditions_peryear = weather_conditions_peryear[['Temperature','Dewpoint Temperature','Windspeed','Max Windspeed','Max Temperature','Min Temperature','Frost','Rain','Snow','Hail','Thunder','Tornado']].div(weather_conditions_peryear['Count'], axis=0)\n",
    "weather_conditions_peryear.drop(pd.Int64Index([2018]), inplace=True)"
   ]
  },
  {
   "cell_type": "markdown",
   "metadata": {},
   "source": []
  }
 ],
 "metadata": {
  "kernelspec": {
   "display_name": "Python 3",
   "language": "python",
   "name": "python3"
  },
  "language_info": {
   "codemirror_mode": {
    "name": "ipython",
    "version": 3
   },
   "file_extension": ".py",
   "mimetype": "text/x-python",
   "name": "python",
   "nbconvert_exporter": "python",
   "pygments_lexer": "ipython3",
   "version": "3.7.1"
  }
 },
 "nbformat": 4,
 "nbformat_minor": 2
}
