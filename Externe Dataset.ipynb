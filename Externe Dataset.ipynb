{
 "cells": [
  {
   "cell_type": "code",
   "execution_count": null,
   "metadata": {},
   "outputs": [],
   "source": [
    "# importeer nodige libraries\n",
    "import pandas as pd\n",
    "import numpy as np\n",
    "import matplotlib.pyplot as plt\n",
    "\n",
    "from sklearn.tree import DecisionTreeRegressor\n",
    "from sklearn.svm import SVR\n",
    "from sklearn.linear_model import *\n",
    "from sklearn.model_selection import train_test_split\n",
    "from sklearn.metrics import accuracy_score"
   ]
  },
  {
   "cell_type": "markdown",
   "metadata": {},
   "source": [
    "__INTERNE RED WINES DATASET__"
   ]
  },
  {
   "cell_type": "code",
   "execution_count": null,
   "metadata": {},
   "outputs": [],
   "source": [
    "# lees het bestand in\n",
    "redwines = pd.read_csv(\"redwine.csv\", delimiter=\";\", encoding='iso-8859-1')\n",
    "\n",
    "# verwijder onnodige kolommen\n",
    "redwines.drop(['country','variety','id'],axis=1, inplace=True)\n",
    "\n",
    "# voeg jaartal toe als aparte kolom, en verwijder nan rijen voor jaren (2465 naar 2461)\n",
    "redwines['year'] = redwines['title'].str.extract(r\"([1][9][9]\\d|[2][0][0,1,2]\\d)\")\n",
    "redwines = redwines[redwines['year'].notnull()]\n",
    "redwines['year'] = redwines['year'].astype(int)\n",
    "redwines.set_index('year', inplace=True)\n",
    "\n",
    "# drop rows with nan value in it\n",
    "redwines.dropna(inplace=True)"
   ]
  },
  {
   "cell_type": "markdown",
   "metadata": {},
   "source": [
    "__EXTERNE WEER DATASET__"
   ]
  },
  {
   "cell_type": "code",
   "execution_count": null,
   "metadata": {},
   "outputs": [],
   "source": [
    "# lees de externe dataset in\n",
    "weather_conditions = pd.read_csv(\"weatherdata_lisbon.csv\", delimiter=\";\", encoding='iso-8859-1')\n",
    "\n",
    "# drop onbruikbare rijen en hernoem kolommen\n",
    "weather_conditions.drop(['STN---','Unnamed: 5','Unnamed: 7','GUST','PRCP','SNDP','VISIB'], axis=1,inplace=True)\n",
    "weather_conditions.dropna(inplace=True)\n",
    "weather_conditions.rename(columns={'YEARMODA': 'Year','DEWP':'Dewpoint Temperature','TEMP': 'Temperature','MAX':'Max Temperature','MIN':'Min Temperature','WDSP':'Windspeed','MXSPD':'Max Windspeed'},inplace=True)\n",
    "\n",
    "# cleanup and transform data types\n",
    "# also convert fahrenheit to celsius\n",
    "weather_conditions['Max Temperature'] = (weather_conditions['Max Temperature'].str.replace(',','.').str.rstrip(\"*\").astype(float) - 32) / 1.8\n",
    "weather_conditions['Min Temperature'] = (weather_conditions['Min Temperature'].str.replace(',','.').str.rstrip(\"*\").astype(float) - 32) / 1.8\n",
    "weather_conditions['Temperature'] = (weather_conditions['Temperature'].str.replace(',','.').astype(float) - 32) / 1.8\n",
    "weather_conditions['Dewpoint Temperature'] = (weather_conditions['Dewpoint Temperature'].str.replace(',','.').astype(float) - 32) / 1.8\n",
    "weather_conditions['Windspeed'] = weather_conditions['Windspeed'].str.replace(',','.').astype(float)\n",
    "weather_conditions['Max Windspeed'] = weather_conditions['Max Windspeed'].str.replace(',','.').astype(float)\n",
    "weather_conditions['Year']= pd.to_datetime(weather_conditions['Year'].astype(str), format='%Y-%m-%d')\n",
    "\n",
    "# FRSHTT = Frost, Rain, Snow, Hail, Thunder, Thornado\n",
    "weather_conditions['FRSHTT'] = weather_conditions['FRSHTT'].apply(lambda x: '{0:0>6}'.format(x))\n",
    "weather_conditions['Frost'] = weather_conditions['FRSHTT'].str[0].astype(float)\n",
    "weather_conditions['Rain'] = weather_conditions['FRSHTT'].str[1].astype(float)\n",
    "weather_conditions['Snow'] = weather_conditions['FRSHTT'].str[2].astype(float)\n",
    "weather_conditions['Hail'] = weather_conditions['FRSHTT'].str[3].astype(float)\n",
    "weather_conditions['Thunder'] = weather_conditions['FRSHTT'].str[4].astype(float)\n",
    "weather_conditions['Tornado'] = weather_conditions['FRSHTT'].str[5].astype(float)\n",
    "weather_conditions.drop('FRSHTT',axis=1,inplace=True)\n",
    "\n",
    "# verwijder uitschieters\n",
    "weather_conditions = weather_conditions[weather_conditions['Min Temperature'] < 50]\n",
    "weather_conditions = weather_conditions[weather_conditions['Max Temperature'] < 50]\n",
    "weather_conditions = weather_conditions[weather_conditions['Temperature'] < 50]\n",
    "weather_conditions = weather_conditions[weather_conditions['Windspeed'] < 50]\n",
    "weather_conditions = weather_conditions[weather_conditions['Max Windspeed'] < 50]\n",
    "weather_conditions = weather_conditions[weather_conditions['Dewpoint Temperature'] < 100]\n",
    "\n",
    "# bereken gemiddelde eigenschappen per jaar\n",
    "weather_conditions['Count'] = 1\n",
    "average_weather_conditions_peryear = weather_conditions.groupby(temperatures['Year'].map(lambda x: x.year)).sum()\n",
    "average_weather_conditions_peryear = average_weather_conditions_peryear[['Temperature','Dewpoint Temperature','Windspeed','Max Windspeed','Max Temperature','Min Temperature','Frost','Rain','Snow','Hail','Thunder','Tornado']].div(average_weather_conditions_peryear['Count'], axis=0)\n",
    "average_weather_conditions_peryear.drop(pd.Int64Index([2018]), inplace=True) # 2018 heeft maar 1 meting"
   ]
  },
  {
   "cell_type": "markdown",
   "metadata": {},
   "source": [
    "__MERGING EXTERNE EN INTERNE DATASETS__"
   ]
  },
  {
   "cell_type": "code",
   "execution_count": null,
   "metadata": {},
   "outputs": [],
   "source": [
    "redwines_year_comparison = redwines[['points']]\n",
    "redwines_with_yeartemperatures = redwines_year_comparison.merge(average_weather_conditions_peryear, left_index=True, right_index=True)\n",
    "redwines_with_yeartemperatures.head()"
   ]
  },
  {
   "cell_type": "markdown",
   "metadata": {},
   "source": [
    "__CREATING THE MODEL__"
   ]
  },
  {
   "cell_type": "code",
   "execution_count": null,
   "metadata": {},
   "outputs": [],
   "source": [
    "# ['Temperature', 'Dewpoint Temperature','Windspeed','Max Windspeed','Max Temperature','Min Temperature','Frost','Rain','Snow','Hail','Thunder','Tornado']\n",
    "# dependent and independent columns\n",
    "dependent = redwines_with_yeartemperatures['points']\n",
    "independent = redwines_with_yeartemperatures.drop('points', axis=1)\n",
    "\n",
    "# test and train set\n",
    "X_train, X_test, y_train, y_test = train_test_split(independent, dependent, random_state=0, test_size=0.2)\n",
    "\n",
    "# setting up and training model\n",
    "model = LogisticRegression()\n",
    "model.fit(X_train, y_train)\n",
    "\n",
    "# testing and calculating accuracy\n",
    "#print(model.predict(X_test))\n",
    "print(model.score(X_test,y_test))\n",
    "\n",
    "# LinearRegression 8%\n",
    "# DecisionTreeClassifier 12%\n",
    "# LogisticRegression 15%\n",
    "# BayesianRidge 6%\n",
    "# SVR 5%\n",
    "# DecisionTreeRegressor 7%\n",
    "# Ridge 5%"
   ]
  }
 ],
 "metadata": {
  "kernelspec": {
   "display_name": "Python 3",
   "language": "python",
   "name": "python3"
  },
  "language_info": {
   "codemirror_mode": {
    "name": "ipython",
    "version": 3
   },
   "file_extension": ".py",
   "mimetype": "text/x-python",
   "name": "python",
   "nbconvert_exporter": "python",
   "pygments_lexer": "ipython3",
   "version": "3.7.1"
  }
 },
 "nbformat": 4,
 "nbformat_minor": 2
}
