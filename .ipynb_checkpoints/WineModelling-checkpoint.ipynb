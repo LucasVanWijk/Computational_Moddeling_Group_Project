{
 "cells": [
  {
   "cell_type": "markdown",
   "metadata": {},
   "source": [
    "# Onderzoek vragen\n",
    "\n",
    "Wij hebben de volgende onderzoek vragen bedacht.\n",
    "\n",
    "1. In hoeverre is de score van een Portugese Red te voorspellen op basis van de chemische kenmerken?\n",
    "2. (Bonus) Kan men op basis van eigenschappen van eerder gereviewde wijnen voorspellen wat een recensent van een wijn zal vinden.\n",
    "3. Welk effect heeft weer over de jaren heen effect op de wijn score die reviewers geven in punten?\n",
    "4. Kan je op basis van score en prijs welke regio de wijn zijn oorsprong.\n"
   ]
  },
  {
   "cell_type": "markdown",
   "metadata": {},
   "source": [
    "# Data verkening \n",
    "Als eers hebben wij het csv naar een exel bestand omgezet en de data bekeken. Hier uit ondeketen wij de volgende punten.\n",
    "\n",
    "Wij er achter gekomen dat het moeilijk is om een wijn te identificeren. Zo kan een wijn uit hetzelfde jaar met dezelfde naam gereviewed door dezelfde persoon uit de zelfde streek andere chemische eigenschappen hebben. Dit roept vragen op. Namelijk zijn de wijnen hetzelfde en zo ja. Klopt de meting van de chemische eigenschappen dan wel. Wij hebben besloten er van uit te gaan dat wij de chemische eigenschappen kunnen vertrouwen. Dit omdat wij anders dusdanig beperkt zijn dat wij geen interessante correlaties kunnen maken en de opdracht dus niet voldaan kan worden. Wij weten dus niet in hoeverre de namen correct zijn. Dit kan voor problemen zorgen bij ML. \n",
    "Jaartal is niet specifiek aangegeven maar kan wel zeer bruikbaar zijn. Naar verkenning zijn wij er achter gekomen dat een titel wel vaak een jaar aangeeft. Wij hebben toen code geschreven om te kijken welke titels geen jaar bevat dit bleken er 4 te zijn.\n",
    "Na verkenning zijn wij er achter gekomen dat provincies niet altijd bestaande provincies zijn maar dat er ook regio’s en onbruikbare waardes tussen zitten. Dit zorgt er dus voor dat wij niet soepel weerdata voor die regio kunnen opvragen en maakt een correlatie zoeken tussen weer in een regio en de  qualiteit van de wijn erg moeilijk Daarom kiezen wij ervoor om data van de hoofdstad te gebruiken i.p.v. data van verschillende plaatsen. De data van de hoofdstad (Lissabon) hebben we gevonden op www7.ncdc.noaa.gov/ dit is National Climatic Data Center van de United states department of commerce. Hier hebben wij de data van Lissabon van 1990 tot 2018 kunnen vinden.\n"
   ]
  },
  {
   "cell_type": "code",
   "execution_count": null,
   "metadata": {},
   "outputs": [],
   "source": [
    "# importeer nodige libraries\n",
    "import pandas as pd\n",
    "import numpy as np\n",
    "import matplotlib.pyplot as plt\n",
    "import seaborn as sns\n",
    "\n",
    "from sklearn.tree import DecisionTreeRegressor,DecisionTreeClassifier\n",
    "from sklearn.svm import SVR\n",
    "from sklearn.linear_model import *\n",
    "from sklearn.model_selection import train_test_split\n",
    "from sklearn.metrics import accuracy_score\n",
    "from sklearn import preprocessing"
   ]
  },
  {
   "cell_type": "markdown",
   "metadata": {},
   "source": [
    "__INTERNE RED WINES DATASET__"
   ]
  },
  {
   "cell_type": "code",
   "execution_count": null,
   "metadata": {},
   "outputs": [],
   "source": [
    "# lees het bestand in\n",
    "redwines = pd.read_csv(\"redwine.csv\", delimiter=\";\", encoding='iso-8859-1')\n",
    "\n",
    "# verwijder onnodige kolommen\n",
    "redwines.drop(['country','variety','id'],axis=1, inplace=True)\n",
    "redwines.dropna(inplace=True)\n",
    "\n",
    "# voeg jaartal toe als aparte kolom, en verwijder nan rijen voor jaren (2465 naar 2461)\n",
    "redwines['year'] = redwines['title'].str.extract(r\"([1][9][9]\\d|[2][0][0,1,2]\\d)\")\n",
    "redwines = redwines[redwines['year'].notnull()]\n",
    "redwines['year'] = redwines['year'].astype(int)\n",
    "redwines['count'] = 1\n",
    "#redwines = redwines[pd.to_numeric(redwines['citric acid'], errors='coerce').notnull()]\n",
    "#redwines['citric acid'] = redwines['citric acid'].str.replace(',','.').astype(float)\n",
    "\n",
    "# lees tabel statistieken uit\n",
    "redwines.describe()"
   ]
  },
  {
   "cell_type": "markdown",
   "metadata": {},
   "source": [
    "__EXTERNE WEER DATASET__"
   ]
  },
  {
   "cell_type": "code",
   "execution_count": null,
   "metadata": {},
   "outputs": [],
   "source": [
    "# lees de externe dataset in\n",
    "weather_conditions = pd.read_csv(\"weatherdata_lisbon.csv\", delimiter=\";\", encoding='iso-8859-1')\n",
    "\n",
    "# drop onbruikbare rijen en hernoem kolommen\n",
    "weather_conditions.drop(['STN---','Unnamed: 5','Unnamed: 7','GUST','PRCP','SNDP','VISIB'], axis=1,inplace=True)\n",
    "weather_conditions.dropna(inplace=True)\n",
    "weather_conditions.rename(columns={'YEARMODA': 'Year','DEWP':'Dewpoint Temperature','TEMP': 'Temperature','MAX':'Max Temperature','MIN':'Min Temperature','WDSP':'Windspeed','MXSPD':'Max Windspeed'},inplace=True)\n",
    "\n",
    "# cleanup and transform data types\n",
    "# also convert fahrenheit to celsius\n",
    "weather_conditions['Max Temperature'] = (weather_conditions['Max Temperature'].str.replace(',','.').str.rstrip(\"*\").astype(float) - 32) / 1.8\n",
    "weather_conditions['Min Temperature'] = (weather_conditions['Min Temperature'].str.replace(',','.').str.rstrip(\"*\").astype(float) - 32) / 1.8\n",
    "weather_conditions['Temperature'] = (weather_conditions['Temperature'].str.replace(',','.').astype(float) - 32) / 1.8\n",
    "weather_conditions['Dewpoint Temperature'] = (weather_conditions['Dewpoint Temperature'].str.replace(',','.').astype(float) - 32) / 1.8\n",
    "weather_conditions['Windspeed'] = weather_conditions['Windspeed'].str.replace(',','.').astype(float)\n",
    "weather_conditions['Max Windspeed'] = weather_conditions['Max Windspeed'].str.replace(',','.').astype(float)\n",
    "weather_conditions['Year']= pd.to_datetime(weather_conditions['Year'].astype(str), format='%Y-%m-%d')\n",
    "\n",
    "# FRSHTT = Frost, Rain, Snow, Hail, Thunder, Thornado\n",
    "weather_conditions['FRSHTT'] = weather_conditions['FRSHTT'].apply(lambda x: '{0:0>6}'.format(x))\n",
    "weather_conditions['Frost'] = weather_conditions['FRSHTT'].str[0].astype(float)\n",
    "weather_conditions['Rain'] = weather_conditions['FRSHTT'].str[1].astype(float)\n",
    "weather_conditions['Snow'] = weather_conditions['FRSHTT'].str[2].astype(float)\n",
    "weather_conditions['Hail'] = weather_conditions['FRSHTT'].str[3].astype(float)\n",
    "weather_conditions['Thunder'] = weather_conditions['FRSHTT'].str[4].astype(float)\n",
    "weather_conditions['Tornado'] = weather_conditions['FRSHTT'].str[5].astype(float)\n",
    "weather_conditions.drop('FRSHTT',axis=1,inplace=True)\n",
    "\n",
    "# verwijder uitschieters\n",
    "weather_conditions = weather_conditions[weather_conditions['Min Temperature'] < 50]\n",
    "weather_conditions = weather_conditions[weather_conditions['Max Temperature'] < 50]\n",
    "weather_conditions = weather_conditions[weather_conditions['Temperature'] < 50]\n",
    "weather_conditions = weather_conditions[weather_conditions['Windspeed'] < 50]\n",
    "weather_conditions = weather_conditions[weather_conditions['Max Windspeed'] < 50]\n",
    "weather_conditions = weather_conditions[weather_conditions['Dewpoint Temperature'] < 100]\n",
    "\n",
    "# bereken gemiddelde eigenschappen per jaar\n",
    "weather_conditions['Count'] = 1\n",
    "average_weather_conditions_peryear = weather_conditions.groupby(weather_conditions['Year'].map(lambda x: x.year)).sum()\n",
    "average_weather_conditions_peryear = average_weather_conditions_peryear[['Temperature','Dewpoint Temperature','Windspeed','Max Windspeed','Max Temperature','Min Temperature','Frost','Rain','Snow','Hail','Thunder','Tornado']].div(average_weather_conditions_peryear['Count'], axis=0)\n",
    "average_weather_conditions_peryear.drop(pd.Int64Index([2018]), inplace=True) # 2018 heeft maar 1 meting\n",
    "\n",
    "# lees tabel statistieken uit\n",
    "average_weather_conditions_peryear.describe()"
   ]
  },
  {
   "cell_type": "markdown",
   "metadata": {},
   "source": [
    "__MERGING EXTERNE EN INTERNE DATASETS__"
   ]
  },
  {
   "cell_type": "code",
   "execution_count": null,
   "metadata": {},
   "outputs": [],
   "source": [
    "redwines_with_yeartemperatures = redwines.merge(average_weather_conditions_peryear, left_on='year', right_on='Year')"
   ]
  },
  {
   "cell_type": "markdown",
   "metadata": {},
   "source": [
    "__DATA ANALYSES AND GRAPHS__"
   ]
  },
  {
   "cell_type": "code",
   "execution_count": null,
   "metadata": {},
   "outputs": [],
   "source": [
    "# corralation tabel voor dataset redwines\n",
    "plt.figure(figsize=(16,12))\n",
    "correlation_matrix = redwines_with_yeartemperatures.drop(['description','title','Tornado','count'],axis=1).corr()\n",
    "sns.heatmap(correlation_matrix, annot=True, cmap=plt.cm.Reds)\n",
    "plt.show()"
   ]
  },
  {
   "cell_type": "markdown",
   "metadata": {},
   "source": [
    "Het is belangrijk om inzicht te hebben in hoe de punten zijn verdeeld. Na een korte analyse kwamen we erachter dat alle punten zijn verdeeld tussen 80 en 100. Daarmee is een wijn van 80 punten opeens de slechtst beoordeelde wijn terwijl het lijkt alsof dit een redelijk hoge score is. In onderstaande bar plot is te zien hoe de punten zijn verdeeld "
   ]
  },
  {
   "cell_type": "code",
   "execution_count": null,
   "metadata": {},
   "outputs": [],
   "source": [
    "# punt verdeling\n",
    "points = redwines.groupby('points').sum()\n",
    "plt.figure(figsize=(16,5))\n",
    "plt.xticks(points.index)\n",
    "plt.bar(points.index, points['count'])\n",
    "plt.xlabel('Points')\n",
    "plt.ylabel('Count')\n",
    "plt.show()"
   ]
  },
  {
   "cell_type": "markdown",
   "metadata": {},
   "source": [
    "Wij hebben ook besloten om een paar box plotten te maken van specifieken waarden om zo te zien hoe die zijn verdeeld\n",
    "Hier uit is te zien dat de pH relatief dicht bij elkaar licht en dat er niet veel waarden zijn die erveel afwijken"
   ]
  },
  {
   "cell_type": "code",
   "execution_count": null,
   "metadata": {},
   "outputs": [],
   "source": [
    "boxplot = redwines.boxplot('pH')"
   ]
  },
  {
   "cell_type": "markdown",
   "metadata": {},
   "source": [
    "Hier uit is te zien dat het suiker gehalte veel waardes zijn die ver afwijken. Intresant genoeg zijn al deze waarden hoger dan de mediaan en zijn er weinig waarden lager"
   ]
  },
  {
   "cell_type": "code",
   "execution_count": null,
   "metadata": {},
   "outputs": [],
   "source": [
    "boxplot = redwines.boxplot('residual sugar')"
   ]
  },
  {
   "cell_type": "markdown",
   "metadata": {},
   "source": [
    "We vroegen ons als groepje ook af wat de correlatie is tussen wijn prijs en gegeven punten. Je zou zeggen dat de duurdere wijnen ook beter beoordeeld moeten zijn. Het aantal punten zou dus moeten oplopen naarmate de prijs hoger wordt. Dit bleek ook enigzins het geval zoals in de onderstaande scatter plot te zien is. Het is soms ook lastig te zeggen aangezien het onderlinge verschil tussen gegeven punten niet erg hoog is. Er is per puntenaantal een gemiddeld van de prijs genomen, en dit gemiddelde wordt getoond per puntenaantal."
   ]
  },
  {
   "cell_type": "code",
   "execution_count": null,
   "metadata": {},
   "outputs": [],
   "source": [
    "# Points comparison to average price\n",
    "avg = redwines.groupby('points').sum()\n",
    "avg['avg_price_per_point'] = avg['price'] / avg['count']\n",
    "plt.figure(figsize=(16,10))\n",
    "plt.xticks(avg.index)\n",
    "plt.bar(avg.index, avg['avg_price_per_point'])\n",
    "plt.xlabel('Points')\n",
    "plt.ylabel('Average price')\n",
    "plt.show()"
   ]
  },
  {
   "cell_type": "markdown",
   "metadata": {},
   "source": [
    "Ook dachten we dat er misschien een verband tussen goedkope wijn en veel suiker zou zijn, i.v.m. het feit dat suiker een goedkope grondstof is. Dit bleek echter minder uit te maken dan we eerst dachten. Er is geen overduidelijk verband te vinden tussen lagere wijnprijzen en hogere suikergehaltes zoals in de onderstaande scatter plot te zien is."
   ]
  },
  {
   "cell_type": "code",
   "execution_count": null,
   "metadata": {
    "scrolled": true
   },
   "outputs": [],
   "source": [
    "# Sugar comparison to price\n",
    "plt.figure(figsize=(16,5))\n",
    "plt.scatter(redwines['residual sugar'], redwines['price'])\n",
    "plt.ylabel('Price')\n",
    "plt.xlabel('Residual sugar')\n",
    "plt.show()"
   ]
  },
  {
   "cell_type": "code",
   "execution_count": null,
   "metadata": {},
   "outputs": [],
   "source": [
    "# Sugar increase over years\n",
    "avg = redwines.groupby('year').sum()\n",
    "avg['avg_increase_substance'] = avg['residual sugar'] / avg['count']\n",
    "plt.figure(figsize=(16,5))\n",
    "plt.plot(avg.index, avg['avg_increase_substance'])\n",
    "plt.ylabel('Substance')\n",
    "plt.xlabel('Year')\n",
    "plt.show()"
   ]
  },
  {
   "cell_type": "code",
   "execution_count": null,
   "metadata": {},
   "outputs": [],
   "source": [
    "# Average scores per taster\n",
    "avg = redwines.groupby('taster_name').sum()\n",
    "avg['avg_taster_given_points'] = avg['points'] / avg['count']\n",
    "plt.figure(figsize=(16,5))\n",
    "axes = plt.gca()\n",
    "axes.set_ylim([80,95])\n",
    "plt.bar(avg.index, avg['avg_taster_given_points'])\n",
    "plt.ylabel('Average points')\n",
    "plt.xlabel('Taster')\n",
    "plt.xticks(avg.index, rotation='vertical')\n",
    "plt.show()"
   ]
  },
  {
   "cell_type": "markdown",
   "metadata": {},
   "source": [
    "Ook hebben wij gekeken naar de correlatie punten en jaar. Goed is wel om te vermelde dat er weinig wijnen uit het jaar 1996 kwamen. Dus die scoren is gebaseerd op een zeer kleine testgroep. "
   ]
  },
  {
   "cell_type": "code",
   "execution_count": null,
   "metadata": {},
   "outputs": [],
   "source": [
    "# voeg jaartal toe als aparte kolom, en verwijder nan rijen voor jaren (2465 naar 2461)\n",
    "\n",
    "redwines['year'] = redwines['title'].str.extract(r\"([1][9][9]\\d|[2][0][0,1,2]\\d)\")\n",
    "\n",
    "redwines = redwines[redwines['year'].notnull()]\n",
    "\n",
    "# drop rows with nan value in it\n",
    "\n",
    "redwines.dropna(inplace=True)\n",
    "\n",
    "# adds how many wines are tested in a year\n",
    "\n",
    "redwines['count'] = 1\n",
    "\n",
    "#average of points given per year \n",
    "\n",
    "sum_points_per_year = redwines.groupby('year').sum()\n",
    "\n",
    "sum_points_per_year['avg_points_per_year'] = sum_points_per_year['points'] / sum_points_per_year['count']\n",
    "\n",
    "\n",
    "#avg points given per year\n",
    "plt.plot(sum_points_per_year.index, sum_points_per_year['avg_points_per_year'])\n",
    "plt.xticks(sum_points_per_year.index, sum_points_per_year.index, rotation='vertical')\n",
    "plt.title('avg points per year of wines')\n",
    "plt.xlabel('year')\n",
    "plt.ylabel('points')\n",
    "plt.show()"
   ]
  },
  {
   "cell_type": "markdown",
   "metadata": {},
   "source": [
    "__CREATING THE MODEL FOR CORRELATION BETWEEN POINTS AND AVERAGE YEARLY WEATHER CONDITIONS__"
   ]
  },
  {
   "cell_type": "code",
   "execution_count": null,
   "metadata": {},
   "outputs": [],
   "source": [
    "# normalize data\n",
    "#x = redwines_with_yeartemperatures.drop(['description','title','designation','taster_name','province','winery'],axis=1).values #returns a numpy array\n",
    "#min_max_scaler = preprocessing.MinMaxScaler()\n",
    "#x_scaled = min_max_scaler.fit_transform(x)\n",
    "#redwines_with_yeartemperatures = pd.DataFrame(x_scaled)\n",
    "\n",
    "# ['Temperature', 'Dewpoint Temperature','Windspeed','Max Windspeed','Max Temperature','Min Temperature','Frost','Rain','Snow','Hail','Thunder']\n",
    "# dependent and independent columns\n",
    "dependent = redwines_with_yeartemperatures['points']\n",
    "independent = redwines_with_yeartemperatures[['Temperature', 'Dewpoint Temperature','Windspeed','Max Windspeed','Max Temperature','Min Temperature','Frost','Rain','Snow','Hail','Thunder']]\n",
    "\n",
    "# test and train set\n",
    "X_train, X_test, y_train, y_test = train_test_split(independent, dependent, random_state=0, test_size=0.05)\n",
    "\n",
    "# setting up and training model\n",
    "model = LogisticRegression()\n",
    "model.fit(X_train, y_train)\n",
    "\n",
    "# testing and calculating accuracy\n",
    "#print(model.predict(X_test))\n",
    "print(model.score(X_test,y_test))\n",
    "\n",
    "# LinearRegression 8%\n",
    "# DecisionTreeClassifier 12%\n",
    "# LogisticRegression 15%\n",
    "# BayesianRidge 6%\n",
    "# SVR 5%\n",
    "# DecisionTreeRegressor 7%\n",
    "# Ridge 5%"
   ]
  },
  {
   "cell_type": "markdown",
   "metadata": {},
   "source": [
    "__CREATING THE MODEL FOR CORRELATION BETWEEN POINTS AND CHEMICAL PROPERTIES__"
   ]
  },
  {
   "cell_type": "code",
   "execution_count": null,
   "metadata": {},
   "outputs": [],
   "source": [
    "# ['fixed acidity', 'volatile acidity','citric acid', 'residual sugar', 'chlorides', 'free sulfur dioxide','total sulfur dioxide', 'density', 'pH', 'sulphates', 'alcohol']\n",
    "# [\"fixed acidity\", \"volatile acidity\", \"residual sugar\", \"chlorides\", \"free sulfur dioxide\", \"total sulfur dioxide\", \"pH\", \"sulphates\"]\n",
    "# dependent and independent columns\n",
    "dependent = redwines_with_yeartemperatures[\"points\"]\n",
    "#independent = redwines_with_yeartemperatures[[\"fixed acidity\", \"volatile acidity\", \"residual sugar\", \"chlorides\", \"free sulfur dioxide\", \"total sulfur dioxide\", \"pH\", \"sulphates\"]]\n",
    "independent = redwines_with_yeartemperatures[[\"volatile acidity\",\"total sulfur dioxide\"]]\n",
    "# test and train set\n",
    "X_train, X_test, y_train, y_test = train_test_split(independent, dependent, random_state=0, test_size=0.2)\n",
    "\n",
    "# setting up and training model\n",
    "model = LogisticRegression()\n",
    "model.fit(X_train, y_train)\n",
    "\n",
    "# testing and calculating accuracy\n",
    "#print(model.predict([[13,25]]))\n",
    "print(model.score(X_test,y_test))\n",
    "\n",
    "# LinearRegression 8%\n",
    "# DecisionTreeClassifier 12%\n",
    "# LogisticRegression 15%\n",
    "# BayesianRidge 6%\n",
    "# SVR 5%\n",
    "# DecisionTreeRegressor 7%\n",
    "# Ridge 5%"
   ]
  }
 ],
 "metadata": {
  "kernelspec": {
   "display_name": "Python 3",
   "language": "python",
   "name": "python3"
  },
  "language_info": {
   "codemirror_mode": {
    "name": "ipython",
    "version": 3
   },
   "file_extension": ".py",
   "mimetype": "text/x-python",
   "name": "python",
   "nbconvert_exporter": "python",
   "pygments_lexer": "ipython3",
   "version": "3.7.1"
  }
 },
 "nbformat": 4,
 "nbformat_minor": 2
}
