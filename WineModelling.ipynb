{
 "cells": [
  {
   "cell_type": "code",
   "execution_count": 350,
   "metadata": {},
   "outputs": [],
   "source": [
    "# alle overige kolommen met NAN waardes\n",
    "#redwines[redwines.isnull().any(axis=1)].head(20)"
   ]
  },
  {
   "cell_type": "code",
   "execution_count": 351,
   "metadata": {},
   "outputs": [],
   "source": [
    "# importeer nodige libraries\n",
    "import pandas as pd\n",
    "import numpy as np\n",
    "import matplotlib.pyplot as plt"
   ]
  },
  {
   "cell_type": "code",
   "execution_count": 352,
   "metadata": {},
   "outputs": [],
   "source": [
    "# lees het bestand in\n",
    "redwines = pd.read_csv(\"redwine.csv\", delimiter=\";\", encoding='iso-8859-1')"
   ]
  },
  {
   "cell_type": "code",
   "execution_count": 353,
   "metadata": {},
   "outputs": [],
   "source": [
    "# verwijder onnodige kolommen\n",
    "redwines.drop(['country','variety'],axis=1, inplace=True)"
   ]
  },
  {
   "cell_type": "code",
   "execution_count": 354,
   "metadata": {},
   "outputs": [],
   "source": [
    "# set column id als index\n",
    "redwines.set_index('id', inplace=True)"
   ]
  },
  {
   "cell_type": "code",
   "execution_count": 355,
   "metadata": {},
   "outputs": [],
   "source": [
    "# voeg jaartal toe als aparte kolom, en verwijder nan rijen voor jaren (2465 naar 2461)\n",
    "redwines['count'] = 1\n",
    "redwines['year'] = redwines['title'].str.extract(r\"([1][9][9]\\d|[2][0][0,1,2]\\d)\")\n",
    "redwines = redwines[redwines['year'].notnull()]"
   ]
  },
  {
   "cell_type": "code",
   "execution_count": 356,
   "metadata": {},
   "outputs": [],
   "source": [
    "# drop rows with nan value in it\n",
    "redwines.dropna(inplace=True)"
   ]
  },
  {
   "cell_type": "code",
   "execution_count": 357,
   "metadata": {},
   "outputs": [
    {
     "data": {
      "text/html": [
       "<div>\n",
       "<style scoped>\n",
       "    .dataframe tbody tr th:only-of-type {\n",
       "        vertical-align: middle;\n",
       "    }\n",
       "\n",
       "    .dataframe tbody tr th {\n",
       "        vertical-align: top;\n",
       "    }\n",
       "\n",
       "    .dataframe thead th {\n",
       "        text-align: right;\n",
       "    }\n",
       "</style>\n",
       "<table border=\"1\" class=\"dataframe\">\n",
       "  <thead>\n",
       "    <tr style=\"text-align: right;\">\n",
       "      <th></th>\n",
       "      <th>points</th>\n",
       "      <th>price</th>\n",
       "      <th>fixed acidity</th>\n",
       "      <th>volatile acidity</th>\n",
       "      <th>residual sugar</th>\n",
       "      <th>chlorides</th>\n",
       "      <th>free sulfur dioxide</th>\n",
       "      <th>total sulfur dioxide</th>\n",
       "      <th>pH</th>\n",
       "      <th>sulphates</th>\n",
       "      <th>count</th>\n",
       "    </tr>\n",
       "  </thead>\n",
       "  <tbody>\n",
       "    <tr>\n",
       "      <th>count</th>\n",
       "      <td>2060.000000</td>\n",
       "      <td>2060.000000</td>\n",
       "      <td>2060.000000</td>\n",
       "      <td>2060.000000</td>\n",
       "      <td>2060.000000</td>\n",
       "      <td>2060.000000</td>\n",
       "      <td>2060.000000</td>\n",
       "      <td>2060.000000</td>\n",
       "      <td>2060.000000</td>\n",
       "      <td>2060.000000</td>\n",
       "      <td>2060.0</td>\n",
       "    </tr>\n",
       "    <tr>\n",
       "      <th>mean</th>\n",
       "      <td>88.860194</td>\n",
       "      <td>24.703398</td>\n",
       "      <td>8.349272</td>\n",
       "      <td>0.529723</td>\n",
       "      <td>2.574587</td>\n",
       "      <td>0.087831</td>\n",
       "      <td>16.008252</td>\n",
       "      <td>47.775243</td>\n",
       "      <td>3.310869</td>\n",
       "      <td>0.662427</td>\n",
       "      <td>1.0</td>\n",
       "    </tr>\n",
       "    <tr>\n",
       "      <th>std</th>\n",
       "      <td>2.947800</td>\n",
       "      <td>25.716501</td>\n",
       "      <td>1.742572</td>\n",
       "      <td>0.180143</td>\n",
       "      <td>1.419112</td>\n",
       "      <td>0.047329</td>\n",
       "      <td>10.423659</td>\n",
       "      <td>33.478012</td>\n",
       "      <td>0.155111</td>\n",
       "      <td>0.173984</td>\n",
       "      <td>0.0</td>\n",
       "    </tr>\n",
       "    <tr>\n",
       "      <th>min</th>\n",
       "      <td>81.000000</td>\n",
       "      <td>5.000000</td>\n",
       "      <td>4.600000</td>\n",
       "      <td>0.120000</td>\n",
       "      <td>0.900000</td>\n",
       "      <td>0.012000</td>\n",
       "      <td>1.000000</td>\n",
       "      <td>6.000000</td>\n",
       "      <td>2.740000</td>\n",
       "      <td>0.330000</td>\n",
       "      <td>1.0</td>\n",
       "    </tr>\n",
       "    <tr>\n",
       "      <th>25%</th>\n",
       "      <td>87.000000</td>\n",
       "      <td>12.000000</td>\n",
       "      <td>7.100000</td>\n",
       "      <td>0.400000</td>\n",
       "      <td>1.900000</td>\n",
       "      <td>0.070000</td>\n",
       "      <td>8.000000</td>\n",
       "      <td>23.000000</td>\n",
       "      <td>3.210000</td>\n",
       "      <td>0.550000</td>\n",
       "      <td>1.0</td>\n",
       "    </tr>\n",
       "    <tr>\n",
       "      <th>50%</th>\n",
       "      <td>88.000000</td>\n",
       "      <td>17.000000</td>\n",
       "      <td>7.900000</td>\n",
       "      <td>0.520000</td>\n",
       "      <td>2.200000</td>\n",
       "      <td>0.079000</td>\n",
       "      <td>14.000000</td>\n",
       "      <td>38.000000</td>\n",
       "      <td>3.305000</td>\n",
       "      <td>0.620000</td>\n",
       "      <td>1.0</td>\n",
       "    </tr>\n",
       "    <tr>\n",
       "      <th>75%</th>\n",
       "      <td>91.000000</td>\n",
       "      <td>28.000000</td>\n",
       "      <td>9.300000</td>\n",
       "      <td>0.635000</td>\n",
       "      <td>2.600000</td>\n",
       "      <td>0.090250</td>\n",
       "      <td>21.000000</td>\n",
       "      <td>65.000000</td>\n",
       "      <td>3.400000</td>\n",
       "      <td>0.730000</td>\n",
       "      <td>1.0</td>\n",
       "    </tr>\n",
       "    <tr>\n",
       "      <th>max</th>\n",
       "      <td>100.000000</td>\n",
       "      <td>450.000000</td>\n",
       "      <td>15.900000</td>\n",
       "      <td>1.580000</td>\n",
       "      <td>15.500000</td>\n",
       "      <td>0.610000</td>\n",
       "      <td>72.000000</td>\n",
       "      <td>289.000000</td>\n",
       "      <td>4.010000</td>\n",
       "      <td>2.000000</td>\n",
       "      <td>1.0</td>\n",
       "    </tr>\n",
       "  </tbody>\n",
       "</table>\n",
       "</div>"
      ],
      "text/plain": [
       "            points        price  fixed acidity  volatile acidity  \\\n",
       "count  2060.000000  2060.000000    2060.000000       2060.000000   \n",
       "mean     88.860194    24.703398       8.349272          0.529723   \n",
       "std       2.947800    25.716501       1.742572          0.180143   \n",
       "min      81.000000     5.000000       4.600000          0.120000   \n",
       "25%      87.000000    12.000000       7.100000          0.400000   \n",
       "50%      88.000000    17.000000       7.900000          0.520000   \n",
       "75%      91.000000    28.000000       9.300000          0.635000   \n",
       "max     100.000000   450.000000      15.900000          1.580000   \n",
       "\n",
       "       residual sugar    chlorides  free sulfur dioxide  total sulfur dioxide  \\\n",
       "count     2060.000000  2060.000000          2060.000000           2060.000000   \n",
       "mean         2.574587     0.087831            16.008252             47.775243   \n",
       "std          1.419112     0.047329            10.423659             33.478012   \n",
       "min          0.900000     0.012000             1.000000              6.000000   \n",
       "25%          1.900000     0.070000             8.000000             23.000000   \n",
       "50%          2.200000     0.079000            14.000000             38.000000   \n",
       "75%          2.600000     0.090250            21.000000             65.000000   \n",
       "max         15.500000     0.610000            72.000000            289.000000   \n",
       "\n",
       "                pH    sulphates   count  \n",
       "count  2060.000000  2060.000000  2060.0  \n",
       "mean      3.310869     0.662427     1.0  \n",
       "std       0.155111     0.173984     0.0  \n",
       "min       2.740000     0.330000     1.0  \n",
       "25%       3.210000     0.550000     1.0  \n",
       "50%       3.305000     0.620000     1.0  \n",
       "75%       3.400000     0.730000     1.0  \n",
       "max       4.010000     2.000000     1.0  "
      ]
     },
     "execution_count": 357,
     "metadata": {},
     "output_type": "execute_result"
    }
   ],
   "source": [
    "# lees tabel statistieken uit\n",
    "redwines.describe()"
   ]
  },
  {
   "cell_type": "markdown",
   "metadata": {},
   "source": [
    "Het is belangrijk om inzicht te hebben in hoe de punten zijn verdeeld. Na een korte analyse kwamen we erachter dat alle punten zijn verdeeld tussen 80 en 100. Daarmee is een wijn van 80 punten opeens de slechtst beoordeelde wijn terwijl het lijkt alsof dit een redelijk hoge score is. In onderstaande bar plot is te zien hoe de punten zijn verdeeld "
   ]
  },
  {
   "cell_type": "code",
   "execution_count": 358,
   "metadata": {},
   "outputs": [
    {
     "data": {
      "image/png": "[encoded data removed]",
      "text/plain": [
       "<Figure size 1152x360 with 1 Axes>"
      ]
     },
     "metadata": {
      "needs_background": "light"
     },
     "output_type": "display_data"
    }
   ],
   "source": [
    "# punt verdeling\n",
    "points = redwines.groupby('points').sum()\n",
    "plt.figure(figsize=(16,5))\n",
    "plt.xticks(points.index)\n",
    "plt.bar(points.index, points['count'])\n",
    "plt.xlabel('Points')\n",
    "plt.ylabel('Count')\n",
    "plt.show()"
   ]
  },
  {
   "cell_type": "markdown",
   "metadata": {},
   "source": [
    "We vroegen ons als groepje ook af wat de correlatie is tussen wijn prijs en gegeven punten. Je zou zeggen dat de duurdere wijnen ook beter beoordeeld moeten zijn. Het aantal punten zou dus moeten oplopen naarmate de prijs hoger wordt. Dit bleek ook enigzins het geval zoals in de onderstaande scatter plot te zien is. Het is soms ook lastig te zeggen aangezien het onderlinge verschil tussen gegeven punten niet erg hoog is. Er is per puntenaantal een gemiddeld van de prijs genomen, en dit gemiddelde wordt getoond per puntenaantal."
   ]
  },
  {
   "cell_type": "code",
   "execution_count": 359,
   "metadata": {},
   "outputs": [
    {
     "data": {
      "image/png": "[encoded data removed]",
      "text/plain": [
       "<Figure size 1152x720 with 1 Axes>"
      ]
     },
     "metadata": {
      "needs_background": "light"
     },
     "output_type": "display_data"
    }
   ],
   "source": [
    "# Points comparison to average price\n",
    "avg = redwines.groupby('points').sum()\n",
    "avg['avg_price_per_point'] = avg['price'] / avg['count']\n",
    "plt.figure(figsize=(16,10))\n",
    "plt.xticks(avg.index)\n",
    "plt.bar(avg.index, avg['avg_price_per_point'])\n",
    "plt.xlabel('Points')\n",
    "plt.ylabel('Average price')\n",
    "plt.show()"
   ]
  },
  {
   "cell_type": "markdown",
   "metadata": {},
   "source": [
    "Ook dachten we dat er misschien een verband tussen goedkope wijn en veel suiker zou zijn, i.v.m. het feit dat suiker een goedkope grondstof is. Dit bleek echter minder uit te maken dan we eerst dachten. Er is geen overduidelijk verband te vinden tussen lagere wijnprijzen en hogere suikergehaltes zoals in de onderstaande scatter plot te zien is."
   ]
  },
  {
   "cell_type": "code",
   "execution_count": 360,
   "metadata": {
    "scrolled": true
   },
   "outputs": [
    {
     "data": {
      "image/png": "[encoded data removed]",
      "text/plain": [
       "<Figure size 1152x360 with 1 Axes>"
      ]
     },
     "metadata": {
      "needs_background": "light"
     },
     "output_type": "display_data"
    }
   ],
   "source": [
    "# Sugar comparison to price\n",
    "plt.figure(figsize=(16,5))\n",
    "plt.scatter(redwines['residual sugar'], redwines['price'])\n",
    "plt.ylabel('Price')\n",
    "plt.xlabel('Residual sugar')\n",
    "plt.show()"
   ]
  },
  {
   "cell_type": "code",
   "execution_count": 361,
   "metadata": {},
   "outputs": [
    {
     "data": {
      "image/png": "[encoded data removed]",
      "text/plain": [
       "<Figure size 1152x360 with 1 Axes>"
      ]
     },
     "metadata": {
      "needs_background": "light"
     },
     "output_type": "display_data"
    }
   ],
   "source": [
    "# Sugar increase over years\n",
    "avg = redwines.groupby('year').sum()\n",
    "avg['avg_increase_substance'] = avg['residual sugar'] / avg['count']\n",
    "plt.figure(figsize=(16,5))\n",
    "plt.plot(avg.index, avg['avg_increase_substance'])\n",
    "plt.ylabel('Substance')\n",
    "plt.xlabel('Year')\n",
    "plt.show()"
   ]
  },
  {
   "cell_type": "code",
   "execution_count": null,
   "metadata": {},
   "outputs": [],
   "source": []
  }
 ],
 "metadata": {
  "kernelspec": {
   "display_name": "Python 3",
   "language": "python",
   "name": "python3"
  },
  "language_info": {
   "codemirror_mode": {
    "name": "ipython",
    "version": 3
   },
   "file_extension": ".py",
   "mimetype": "text/x-python",
   "name": "python",
   "nbconvert_exporter": "python",
   "pygments_lexer": "ipython3",
   "version": "3.7.1"
  }
 },
 "nbformat": 4,
 "nbformat_minor": 2
}
